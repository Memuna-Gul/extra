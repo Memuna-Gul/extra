{
 "cells": [
  {
   "cell_type": "markdown",
   "id": "c113de2e",
   "metadata": {},
   "source": [
    "## **What are Higher Order Functions?**\n",
    "\n",
    "In Python, functions **that take another function as an argument** or **return a function as output** are called `higher-order functions`.These help make code more readable and efficient.\n",
    "\n",
    "**Common Higher Order Functions:**\n",
    "\n",
    "- `map()`: Applies a function to every item in an iterable \n",
    "  \n",
    "- `filter()`: Filter elements based on a condition \n",
    "  \n",
    "- `reduce()`: Reduces a sequence to a single value\n",
    "  \n",
    "- `zip()`:combine multiple iterable into tuples\n",
    "  \n",
    "- `enmerate()`: Adds an index to an iterable\n",
    "  "
   ]
  },
  {
   "cell_type": "markdown",
   "id": "ca3cbdbf",
   "metadata": {},
   "source": [
    "## **1. Understanding `map()` functions**\n",
    "\n",
    "The `map()` function applies a given function to **each item** in an iterable (like a list or tuple) and returns and iterator with the transformed values.\n",
    "\n",
    "**Syntax**\n",
    "\n",
    "map(function,iterable)\n"
   ]
  },
  {
   "cell_type": "code",
   "execution_count": 1,
   "id": "5bd70122",
   "metadata": {},
   "outputs": [
    {
     "name": "stdout",
     "output_type": "stream",
     "text": [
      "[2, 4, 6, 8, 10]\n"
     ]
    }
   ],
   "source": [
    "# Applying map()to double each number in a list\n",
    "\n",
    "def double(x):\n",
    "    return x* 2\n",
    "\n",
    "#using map to double numbers in a list \n",
    "numbers =[1,2,3,4,5]\n",
    "doubled =list(map(double,numbers))\n",
    "\n",
    "print(doubled) #[2, 4, 6, 8, 10]"
   ]
  },
  {
   "cell_type": "markdown",
   "id": "57a63881",
   "metadata": {},
   "source": [
    "## **2. Understanding `filter()` Function**\n",
    "\n",
    "The `filter()` funtion filters elements in an iterable based on a given condition and return only the elements that satisfy that condition.\n",
    "\n",
    "**Syntax**\n",
    "\n",
    "filter (function , iterable)\n"
   ]
  },
  {
   "cell_type": "code",
   "execution_count": 2,
   "id": "81442d2d",
   "metadata": {},
   "outputs": [
    {
     "name": "stdout",
     "output_type": "stream",
     "text": [
      "[2, 4, 6, 8, 10]\n"
     ]
    }
   ],
   "source": [
    "#Function to check if a number is even \n",
    "def is_even(x):\n",
    "    return x%2==0\n",
    "\n",
    "#using filter() to get only even number from the list\n",
    "numbers=[1,2,3,4,5,6,7,8,9,10]\n",
    "even_numbers=list(filter(is_even,numbers))\n",
    "print(even_numbers) #[2, 4, 6, 8, 10]\n"
   ]
  },
  {
   "cell_type": "markdown",
   "id": "32877d65",
   "metadata": {},
   "source": [
    "## **3. Understanding `reduce()` Function**\n",
    " \n",
    "The `reduce()` function reduces an iterable into a **single value** by applying a function \n",
    "\n",
    "**Syntax**\n",
    "reduce (function , iterable)\n",
    "\n"
   ]
  },
  {
   "cell_type": "code",
   "execution_count": null,
   "id": "8b03eb22",
   "metadata": {},
   "outputs": [],
   "source": [
    "from functools import reduce \n",
    "\n",
    "#Function to multiply two numbers \n",
    "def multiply(x,y):\n",
    "    return x*y\n",
    "\n",
    "#using reduce to multiply all numbers in a list \n",
    "numbers=[1,2,3,4,5]\n",
    "product=reduce(multiply,numbers)\n",
    "print(product) #120\n"
   ]
  },
  {
   "cell_type": "markdown",
   "id": "15750c5b",
   "metadata": {},
   "source": [
    "## **4. Understanding `zip()` Function**\n",
    "\n",
    "The `zip()` function combines multiple iterables **element-wise** into tuples.\n",
    "\n",
    "**Syntax**\n",
    "\n",
    "zip (iterable1, iterable, ....)"
   ]
  },
  {
   "cell_type": "code",
   "execution_count": 3,
   "id": "7a82d9e5",
   "metadata": {},
   "outputs": [
    {
     "name": "stdout",
     "output_type": "stream",
     "text": [
      "[('Alice', 25), ('Bob', 30), ('Charlie', 35)]\n"
     ]
    }
   ],
   "source": [
    "# Using zip() to pair names and ages \n",
    "names=[\"Alice\",\"Bob\",\"Charlie\"]\n",
    "ages=[25,30,35]\n",
    "paired=list(zip(names,ages))\n",
    "print(paired) #[('Alice', 25), ('Bob', 30), ('Charlie', 35)]\n",
    "\n"
   ]
  },
  {
   "cell_type": "markdown",
   "id": "f8e4b985",
   "metadata": {},
   "source": [
    "## **5. Understanding `enumerate()` Function**\n",
    "\n",
    "The `enumerate()` function adds an **index** to an iterable, making it easier to track element positions.\n",
    "\n",
    "**Syntax**\n",
    "\n",
    "enumerate(iterable,start=0)"
   ]
  },
  {
   "cell_type": "code",
   "execution_count": 4,
   "id": "8ade1407",
   "metadata": {},
   "outputs": [
    {
     "name": "stdout",
     "output_type": "stream",
     "text": [
      "1: apple\n",
      "2: banana\n",
      "3: cherry\n"
     ]
    }
   ],
   "source": [
    "#using enumerate() to print index and value\n",
    "fruits=[\"apple\",\"banana\",\"cherry\"]\n",
    "for index,fruit in enumerate(fruits,start=1):\n",
    "    print(f\"{index}: {fruit}\")    "
   ]
  },
  {
   "cell_type": "markdown",
   "id": "c4cbb724",
   "metadata": {},
   "source": [
    "## **Best practices for using Higher-order Functions**\n",
    "\n",
    "- use `map()` and `filter()` for simple tasks\n",
    "  \n",
    "- use `reduce()` when necessary\n",
    "\n",
    "- use `zip()` for multiple lists\n",
    "  \n",
    "- use `enumerate()` for indices in loops\n",
    "  "
   ]
  },
  {
   "cell_type": "code",
   "execution_count": null,
   "id": "f029f056",
   "metadata": {},
   "outputs": [],
   "source": []
  }
 ],
 "metadata": {
  "kernelspec": {
   "display_name": "Python 3",
   "language": "python",
   "name": "python3"
  },
  "language_info": {
   "codemirror_mode": {
    "name": "ipython",
    "version": 3
   },
   "file_extension": ".py",
   "mimetype": "text/x-python",
   "name": "python",
   "nbconvert_exporter": "python",
   "pygments_lexer": "ipython3",
   "version": "3.13.2"
  }
 },
 "nbformat": 4,
 "nbformat_minor": 5
}
